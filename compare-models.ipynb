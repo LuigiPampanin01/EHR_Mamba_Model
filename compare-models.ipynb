{
 "cells": [
  {
   "cell_type": "code",
   "execution_count": null,
   "metadata": {},
   "outputs": [],
   "source": [
    "import json\n",
    "import os\n",
    "import matplotlib.pyplot as plt\n",
    "import numpy as np\n",
    "\n",
    "# Initialize lists to store summary data\n",
    "summaries = []\n",
    "\n",
    "# Define the path to the outputs directory\n",
    "outputs_dir = 'outputs'\n",
    "\n",
    "# Iterate over all directories in the outputs directory\n",
    "for subdir in os.listdir(outputs_dir):\n",
    "    subdir_path = os.path.join(outputs_dir, subdir)\n",
    "    if os.path.isdir(subdir_path):\n",
    "        summary_file = os.path.join(subdir_path, 'summary.json')\n",
    "        if os.path.exists(summary_file):\n",
    "            with open(summary_file, 'r') as f:\n",
    "                summary_data = json.load(f)\n",
    "                summaries.append((subdir, summary_data))\n",
    "\n",
    "# Check if summaries were loaded\n",
    "if not summaries:\n",
    "    print(\"No summary files found.\")\n",
    "else:\n",
    "    print(f\"Loaded {len(summaries)} summary files.\")"
   ]
  },
  {
   "cell_type": "code",
   "execution_count": null,
   "metadata": {},
   "outputs": [],
   "source": [
    "# Print the summary data for each directory\n",
    "for subdir, summary_data in summaries:\n",
    "    print(f\"\\nSummary for {subdir}:\")\n",
    "    for key, value in summary_data.items():\n",
    "        print(f\"{key}: {value}\")"
   ]
  },
  {
   "cell_type": "code",
   "execution_count": null,
   "metadata": {},
   "outputs": [],
   "source": [
    "# Extract metrics for comparison\n",
    "metrics = ['mean_loss', 'mean_accuracy', 'mean_auprc', 'mean_auroc']\n",
    "metric_values = {metric: [] for metric in metrics}\n",
    "metric_stds = {metric: [] for metric in metrics}\n",
    "labels = []\n",
    "\n",
    "for subdir, summary_data in summaries:\n",
    "    labels.append(subdir)\n",
    "    for metric in metrics:\n",
    "        metric_values[metric].append(summary_data[metric])\n",
    "        metric_stds[metric].append(summary_data[f'std_{metric.split(\"_\")[1]}'])\n",
    "\n",
    "# Plot the metrics\n",
    "x_pos = np.arange(len(labels))\n",
    "\n",
    "fig, axs = plt.subplots(2, 2, figsize=(15, 10))\n",
    "axs = axs.flatten()\n",
    "\n",
    "for i, metric in enumerate(metrics):\n",
    "    axs[i].bar(x_pos, metric_values[metric], yerr=metric_stds[metric], align='center', alpha=0.7, ecolor='black', capsize=10)\n",
    "    axs[i].set_ylabel(metric.replace('_', ' ').title())\n",
    "    axs[i].set_xticks(x_pos)\n",
    "    axs[i].set_xticklabels(labels, rotation=45, ha='right')\n",
    "    axs[i].set_title(f'Comparison of {metric.replace(\"_\", \" \").title()}')\n",
    "    axs[i].yaxis.grid(True)\n",
    "\n",
    "# Adjust layout and show the figure\n",
    "plt.tight_layout()\n",
    "plt.show()"
   ]
  }
 ],
 "metadata": {
  "kernelspec": {
   "display_name": "venv",
   "language": "python",
   "name": "python3"
  },
  "language_info": {
   "name": "python",
   "version": "3.9.18"
  }
 },
 "nbformat": 4,
 "nbformat_minor": 2
}
